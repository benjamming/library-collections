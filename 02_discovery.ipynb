{
 "cells": [
  {
   "cell_type": "markdown",
   "metadata": {},
   "source": [
    "# LFPL Collections Data\n",
    "\n",
    "## Data Sources \n",
    "\n",
    "This project uses data from the Louisville Metro Open Data site. You can find \n",
    "the main info page for this data set here: \n",
    "[Library Collection Inventory](https://data.louisvilleky.gov/datasets/LOJIC::louisville-metro-ky-library-collection-inventory-/about). It has been modified and a copy is present in this repository at data/rwa/books.csv.gz\n",
    "\n",
    "\n",
    "This project also scrapes data about Young Adult book genre from wikipedia using 01_load_authors.py, which usees the beautiful soup library. The wikipedia article is here:\n",
    "[List of young adult fiction writers](https://en.m.wikipedia.org/wiki/List_of_young_adult_fiction_writers). Scraped data is included in this repository under data/authors.csv"
   ]
  },
  {
   "cell_type": "code",
   "execution_count": 2,
   "metadata": {},
   "outputs": [],
   "source": [
    "import pandas as pd\n",
    "# Dont display numbers in scientific notation.\n",
    "pd.set_option('display.float_format', lambda x: '%.5f' % x)\n",
    "\n"
   ]
  },
  {
   "cell_type": "markdown",
   "metadata": {},
   "source": [
    "# LFPL data"
   ]
  },
  {
   "cell_type": "code",
   "execution_count": 3,
   "metadata": {},
   "outputs": [],
   "source": [
    "books = pd.read_csv(\"data/raw/books.csv.gz\")"
   ]
  },
  {
   "cell_type": "code",
   "execution_count": 4,
   "metadata": {},
   "outputs": [
    {
     "data": {
      "text/plain": [
       "(1190176, 10)"
      ]
     },
     "execution_count": 4,
     "metadata": {},
     "output_type": "execute_result"
    }
   ],
   "source": [
    "# Size information\n",
    "books.shape\n",
    "#Rows, Columns"
   ]
  },
  {
   "cell_type": "markdown",
   "metadata": {},
   "source": [
    "### LFPL Data dictionary\n",
    "LFPL's collection inventory. Updated on a monthly basis.\n",
    "\n",
    "|Column name | Type | Description | Notes |\n",
    "| ----------- | ---- | ----------- | ----- |\n",
    "| BibNum | number:int64| The unique identifier of a bibliographic record within our materials database. Materials with the same bibliographic # will generally have the same cataloging metadata, differing only in the barcode number, assigned location and anything else specific to the individual copy. | |\n",
    "| Title | string | The name of the material. | |\n",
    "| Author | string | The writer or creator of the material. | Inconsistent author names; life dates included; some missing |\n",
    "| ISBN | number:float64 | The International Standard Book Number is a numeric commercial book identifier that is intended to be unique. Publishers purchase ISBNs from an affiliate of the International ISBN Agency. An ISBN is assigned to each separate edition and variation of a publication. | |\n",
    "| PublicationYear | number:int64 | The year that the material was originally published.| year 0; years in the future;typos? |\n",
    "| ItemType | string | Describes the type of material of each item, including Books, Audiobooks, Serials, DVDs, Microforms, Three Dimensional Objects, Kits, and Printed Cartographic Materials. | Constant: always \"Book\"; can ignore|\n",
    "| ItemCollection | string | Refers to the collection the material belongs to based on common themes, including but not limited to Adult Fiction, Adult Reference, Mystery, Children’s Fiction, etc.  | Complex categories contain multiple cats. Split \"adult fiction\" into \"adult\" and \"fiction\" for example. Some DVD Video materials? Thought it was all books. |\n",
    "| ItemLocation | string | The library location where the material was assigned at the time the report was run. | Complex categories: multiple \"main\" and \"remote shelving\"; include mobile libraries. Anything interesting there? |\n",
    "| ItemPrice | number:float64 | The price, in USD, that LFPL purchased the material for. | Really big range; some prices are zero; round to 2 decimals |\n",
    "| ReportDate | alphanumeric | Probably date-time that the report was generated. | Constant; probably can ignore|"
   ]
  },
  {
   "cell_type": "code",
   "execution_count": 5,
   "metadata": {},
   "outputs": [
    {
     "name": "stdout",
     "output_type": "stream",
     "text": [
      "<class 'pandas.core.frame.DataFrame'>\n",
      "RangeIndex: 1190176 entries, 0 to 1190175\n",
      "Data columns (total 10 columns):\n",
      " #   Column           Non-Null Count    Dtype  \n",
      "---  ------           --------------    -----  \n",
      " 0   BibNum           1190176 non-null  int64  \n",
      " 1   Title            1190175 non-null  object \n",
      " 2   Author           1124225 non-null  object \n",
      " 3   ISBN             1153891 non-null  float64\n",
      " 4   PublicationYear  1190176 non-null  int64  \n",
      " 5   ItemType         1190176 non-null  object \n",
      " 6   ItemCollection   1190036 non-null  object \n",
      " 7   ItemLocation     1190176 non-null  object \n",
      " 8   ItemPrice        1190176 non-null  float64\n",
      " 9   ReportDate       1190176 non-null  object \n",
      "dtypes: float64(2), int64(2), object(6)\n",
      "memory usage: 90.8+ MB\n"
     ]
    }
   ],
   "source": [
    "books.info()"
   ]
  },
  {
   "cell_type": "code",
   "execution_count": 6,
   "metadata": {},
   "outputs": [
    {
     "data": {
      "text/html": [
       "<div>\n",
       "<style scoped>\n",
       "    .dataframe tbody tr th:only-of-type {\n",
       "        vertical-align: middle;\n",
       "    }\n",
       "\n",
       "    .dataframe tbody tr th {\n",
       "        vertical-align: top;\n",
       "    }\n",
       "\n",
       "    .dataframe thead th {\n",
       "        text-align: right;\n",
       "    }\n",
       "</style>\n",
       "<table border=\"1\" class=\"dataframe\">\n",
       "  <thead>\n",
       "    <tr style=\"text-align: right;\">\n",
       "      <th></th>\n",
       "      <th>BibNum</th>\n",
       "      <th>Title</th>\n",
       "      <th>Author</th>\n",
       "      <th>ISBN</th>\n",
       "      <th>PublicationYear</th>\n",
       "      <th>ItemType</th>\n",
       "      <th>ItemCollection</th>\n",
       "      <th>ItemLocation</th>\n",
       "      <th>ItemPrice</th>\n",
       "      <th>ReportDate</th>\n",
       "    </tr>\n",
       "  </thead>\n",
       "  <tbody>\n",
       "    <tr>\n",
       "      <th>0</th>\n",
       "      <td>707409</td>\n",
       "      <td>Jeff Immelt and the new GE way : innovation, t...</td>\n",
       "      <td>Magee, David, 1965-</td>\n",
       "      <td>9780071605878.00000</td>\n",
       "      <td>2009</td>\n",
       "      <td>Book</td>\n",
       "      <td>Adult Non-Fiction</td>\n",
       "      <td>Main</td>\n",
       "      <td>25.95000</td>\n",
       "      <td>02/01/2023 00:00:00</td>\n",
       "    </tr>\n",
       "    <tr>\n",
       "      <th>1</th>\n",
       "      <td>707411</td>\n",
       "      <td>Robin rescues dinner : 52 weeks of quick-fix m...</td>\n",
       "      <td>Miller, Robin, 1964-</td>\n",
       "      <td>9780307451408.00000</td>\n",
       "      <td>2009</td>\n",
       "      <td>Book</td>\n",
       "      <td>Adult Non-Fiction</td>\n",
       "      <td>Southwest</td>\n",
       "      <td>19.99000</td>\n",
       "      <td>02/01/2023 00:00:00</td>\n",
       "    </tr>\n",
       "    <tr>\n",
       "      <th>2</th>\n",
       "      <td>707411</td>\n",
       "      <td>Robin rescues dinner : 52 weeks of quick-fix m...</td>\n",
       "      <td>Miller, Robin, 1964-</td>\n",
       "      <td>9780307451408.00000</td>\n",
       "      <td>2009</td>\n",
       "      <td>Book</td>\n",
       "      <td>Adult Non-Fiction</td>\n",
       "      <td>Southwest</td>\n",
       "      <td>19.99000</td>\n",
       "      <td>02/01/2023 00:00:00</td>\n",
       "    </tr>\n",
       "    <tr>\n",
       "      <th>3</th>\n",
       "      <td>707411</td>\n",
       "      <td>Robin rescues dinner : 52 weeks of quick-fix m...</td>\n",
       "      <td>Miller, Robin, 1964-</td>\n",
       "      <td>9780307451408.00000</td>\n",
       "      <td>2009</td>\n",
       "      <td>Book</td>\n",
       "      <td>Adult Non-Fiction</td>\n",
       "      <td>Remote Shelving - Main</td>\n",
       "      <td>19.99000</td>\n",
       "      <td>02/01/2023 00:00:00</td>\n",
       "    </tr>\n",
       "    <tr>\n",
       "      <th>4</th>\n",
       "      <td>707411</td>\n",
       "      <td>Robin rescues dinner : 52 weeks of quick-fix m...</td>\n",
       "      <td>Miller, Robin, 1964-</td>\n",
       "      <td>9780307451408.00000</td>\n",
       "      <td>2009</td>\n",
       "      <td>Book</td>\n",
       "      <td>Adult Non-Fiction</td>\n",
       "      <td>Remote Shelving - Main</td>\n",
       "      <td>19.99000</td>\n",
       "      <td>02/01/2023 00:00:00</td>\n",
       "    </tr>\n",
       "    <tr>\n",
       "      <th>...</th>\n",
       "      <td>...</td>\n",
       "      <td>...</td>\n",
       "      <td>...</td>\n",
       "      <td>...</td>\n",
       "      <td>...</td>\n",
       "      <td>...</td>\n",
       "      <td>...</td>\n",
       "      <td>...</td>\n",
       "      <td>...</td>\n",
       "      <td>...</td>\n",
       "    </tr>\n",
       "    <tr>\n",
       "      <th>1190171</th>\n",
       "      <td>2608597</td>\n",
       "      <td>25 ready-to-use sustainable living programs fo...</td>\n",
       "      <td>NaN</td>\n",
       "      <td>9780838936498.00000</td>\n",
       "      <td>2022</td>\n",
       "      <td>Book</td>\n",
       "      <td>Adult Non-Fiction</td>\n",
       "      <td>South Central</td>\n",
       "      <td>63.69000</td>\n",
       "      <td>02/01/2023 00:00:00</td>\n",
       "    </tr>\n",
       "    <tr>\n",
       "      <th>1190172</th>\n",
       "      <td>2608598</td>\n",
       "      <td>Crypto basics : a nontechnical introduction to...</td>\n",
       "      <td>Gomzin, Slava</td>\n",
       "      <td>9781484283202.00000</td>\n",
       "      <td>2022</td>\n",
       "      <td>Book</td>\n",
       "      <td>Adult Non-Fiction</td>\n",
       "      <td>Bon Air</td>\n",
       "      <td>30.09000</td>\n",
       "      <td>02/01/2023 00:00:00</td>\n",
       "    </tr>\n",
       "    <tr>\n",
       "      <th>1190173</th>\n",
       "      <td>2608598</td>\n",
       "      <td>Crypto basics : a nontechnical introduction to...</td>\n",
       "      <td>Gomzin, Slava</td>\n",
       "      <td>9781484283202.00000</td>\n",
       "      <td>2022</td>\n",
       "      <td>Book</td>\n",
       "      <td>Adult Non-Fiction</td>\n",
       "      <td>Newburg</td>\n",
       "      <td>30.09000</td>\n",
       "      <td>02/01/2023 00:00:00</td>\n",
       "    </tr>\n",
       "    <tr>\n",
       "      <th>1190174</th>\n",
       "      <td>2608599</td>\n",
       "      <td>Data governance</td>\n",
       "      <td>Reichental, Jonathan</td>\n",
       "      <td>9781119906773.00000</td>\n",
       "      <td>2023</td>\n",
       "      <td>Book</td>\n",
       "      <td>Adult Non-Fiction</td>\n",
       "      <td>Main</td>\n",
       "      <td>24.34000</td>\n",
       "      <td>02/01/2023 00:00:00</td>\n",
       "    </tr>\n",
       "    <tr>\n",
       "      <th>1190175</th>\n",
       "      <td>2608599</td>\n",
       "      <td>Data governance</td>\n",
       "      <td>Reichental, Jonathan</td>\n",
       "      <td>9781119906773.00000</td>\n",
       "      <td>2023</td>\n",
       "      <td>Book</td>\n",
       "      <td>Adult Non-Fiction</td>\n",
       "      <td>St Matthews</td>\n",
       "      <td>24.34000</td>\n",
       "      <td>02/01/2023 00:00:00</td>\n",
       "    </tr>\n",
       "  </tbody>\n",
       "</table>\n",
       "<p>1190176 rows × 10 columns</p>\n",
       "</div>"
      ],
      "text/plain": [
       "          BibNum                                              Title  \\\n",
       "0         707409  Jeff Immelt and the new GE way : innovation, t...   \n",
       "1         707411  Robin rescues dinner : 52 weeks of quick-fix m...   \n",
       "2         707411  Robin rescues dinner : 52 weeks of quick-fix m...   \n",
       "3         707411  Robin rescues dinner : 52 weeks of quick-fix m...   \n",
       "4         707411  Robin rescues dinner : 52 weeks of quick-fix m...   \n",
       "...          ...                                                ...   \n",
       "1190171  2608597  25 ready-to-use sustainable living programs fo...   \n",
       "1190172  2608598  Crypto basics : a nontechnical introduction to...   \n",
       "1190173  2608598  Crypto basics : a nontechnical introduction to...   \n",
       "1190174  2608599                                    Data governance   \n",
       "1190175  2608599                                    Data governance   \n",
       "\n",
       "                       Author                ISBN  PublicationYear ItemType  \\\n",
       "0         Magee, David, 1965- 9780071605878.00000             2009     Book   \n",
       "1        Miller, Robin, 1964- 9780307451408.00000             2009     Book   \n",
       "2        Miller, Robin, 1964- 9780307451408.00000             2009     Book   \n",
       "3        Miller, Robin, 1964- 9780307451408.00000             2009     Book   \n",
       "4        Miller, Robin, 1964- 9780307451408.00000             2009     Book   \n",
       "...                       ...                 ...              ...      ...   \n",
       "1190171                   NaN 9780838936498.00000             2022     Book   \n",
       "1190172         Gomzin, Slava 9781484283202.00000             2022     Book   \n",
       "1190173         Gomzin, Slava 9781484283202.00000             2022     Book   \n",
       "1190174  Reichental, Jonathan 9781119906773.00000             2023     Book   \n",
       "1190175  Reichental, Jonathan 9781119906773.00000             2023     Book   \n",
       "\n",
       "            ItemCollection            ItemLocation  ItemPrice  \\\n",
       "0        Adult Non-Fiction                    Main   25.95000   \n",
       "1        Adult Non-Fiction               Southwest   19.99000   \n",
       "2        Adult Non-Fiction               Southwest   19.99000   \n",
       "3        Adult Non-Fiction  Remote Shelving - Main   19.99000   \n",
       "4        Adult Non-Fiction  Remote Shelving - Main   19.99000   \n",
       "...                    ...                     ...        ...   \n",
       "1190171  Adult Non-Fiction           South Central   63.69000   \n",
       "1190172  Adult Non-Fiction                 Bon Air   30.09000   \n",
       "1190173  Adult Non-Fiction                 Newburg   30.09000   \n",
       "1190174  Adult Non-Fiction                    Main   24.34000   \n",
       "1190175  Adult Non-Fiction             St Matthews   24.34000   \n",
       "\n",
       "                  ReportDate  \n",
       "0        02/01/2023 00:00:00  \n",
       "1        02/01/2023 00:00:00  \n",
       "2        02/01/2023 00:00:00  \n",
       "3        02/01/2023 00:00:00  \n",
       "4        02/01/2023 00:00:00  \n",
       "...                      ...  \n",
       "1190171  02/01/2023 00:00:00  \n",
       "1190172  02/01/2023 00:00:00  \n",
       "1190173  02/01/2023 00:00:00  \n",
       "1190174  02/01/2023 00:00:00  \n",
       "1190175  02/01/2023 00:00:00  \n",
       "\n",
       "[1190176 rows x 10 columns]"
      ]
     },
     "execution_count": 6,
     "metadata": {},
     "output_type": "execute_result"
    }
   ],
   "source": [
    "books\n"
   ]
  },
  {
   "cell_type": "code",
   "execution_count": 7,
   "metadata": {},
   "outputs": [
    {
     "data": {
      "text/plain": [
       "439253"
      ]
     },
     "execution_count": 7,
     "metadata": {},
     "output_type": "execute_result"
    }
   ],
   "source": [
    "#BibNum\n",
    "len(books[\"BibNum\"].unique())"
   ]
  },
  {
   "cell_type": "code",
   "execution_count": 8,
   "metadata": {},
   "outputs": [
    {
     "data": {
      "text/plain": [
       "Author\n",
       "Patterson, James, 1947-                 5856\n",
       "Osborne, Mary Pope.                     2063\n",
       "Steel, Danielle                         1824\n",
       "Pilkey, Dav, 1966-                      1812\n",
       "Seuss, Dr.                              1812\n",
       "                                        ... \n",
       "Sánchez Ferlosio, Rafael, 1927-2019       1\n",
       "Pippen, Kitty, 1919-2018                   1\n",
       "Adkins, Frank (Francis A.)                 1\n",
       "Ray, James A.                              1\n",
       "Kniffke, Sophie.                           1\n",
       "Name: count, Length: 187472, dtype: int64"
      ]
     },
     "execution_count": 8,
     "metadata": {},
     "output_type": "execute_result"
    }
   ],
   "source": [
    "#Author\n",
    "authors = books[\"Author\"]\n",
    "authors.value_counts()\n",
    "\n"
   ]
  },
  {
   "cell_type": "code",
   "execution_count": 9,
   "metadata": {},
   "outputs": [
    {
     "name": "stdout",
     "output_type": "stream",
     "text": [
      "unique\t 410544\n"
     ]
    }
   ],
   "source": [
    "#ISBN\n",
    "isbns = books['ISBN']\n",
    "print(\"unique\\t\",len(isbns.unique())) \n"
   ]
  },
  {
   "cell_type": "code",
   "execution_count": 10,
   "metadata": {},
   "outputs": [
    {
     "data": {
      "text/plain": [
       "count   1190176.00000\n",
       "mean       2004.26355\n",
       "std         101.77562\n",
       "min           0.00000\n",
       "25%        2005.00000\n",
       "50%        2014.00000\n",
       "75%        2018.00000\n",
       "max        9999.00000\n",
       "Name: PublicationYear, dtype: float64"
      ]
     },
     "execution_count": 10,
     "metadata": {},
     "output_type": "execute_result"
    }
   ],
   "source": [
    "#PublicationYear\n",
    "from statistics import mean, median, mode\n",
    "\n",
    "years = books[\"PublicationYear\"]\n",
    "years.describe()"
   ]
  },
  {
   "cell_type": "code",
   "execution_count": 11,
   "metadata": {},
   "outputs": [
    {
     "name": "stdout",
     "output_type": "stream",
     "text": [
      "[   0 1790 1794 1798 1800 1807 1808 1809 1812 1814 1817 1818 1821 1822\n",
      " 1823 1825 1828 1829 1830 1831 1832 1833 1835 1836 1837 1838 1839 1840\n",
      " 1841 1842 1843 1844 1845 1846 1847 1848 1849 1850 1851 1852 1853 1854\n",
      " 1855 1856 1857 1858 1859 1860 1861 1862 1863 1864 1865 1866 1867 1868\n",
      " 1869 1870 1871 1872 1873 1874 1875 1876 1877 1878 1879 1880 1881 1882\n",
      " 1883 1884 1885 1886 1887 1888 1889 1890 1891 1892 1893 1894 1895 1896\n",
      " 1897 1898 1899 1900 1901 1902 1903 1904 1905 1906 1907 1908 1909 1910\n",
      " 1911 1912 1913 1914 1915 1916 1917 1918 1919 1920 1921 1922 1923 1924\n",
      " 1925 1926 1927 1928 1929 1930 1931 1932 1933 1934 1935 1936 1937 1938\n",
      " 1939 1940 1941 1942 1943 1944 1945 1946 1947 1948 1949 1950 1951 1952\n",
      " 1953 1954 1955 1956 1957 1958 1959 1960 1961 1962 1963 1964 1965 1966\n",
      " 1967 1968 1969 1970 1971 1972 1973 1974 1975 1976 1977 1978 1979 1980\n",
      " 1981 1982 1983 1984 1985 1986 1987 1988 1989 1990 1991 1992 1993 1994\n",
      " 1995 1996 1997 1998 1999 2000 2001 2002 2003 2004 2005 2006 2007 2008\n",
      " 2009 2010 2011 2012 2013 2014 2015 2016 2017 2018 2019 2020 2021 2022\n",
      " 2023 2109 9999]\n"
     ]
    }
   ],
   "source": [
    "\n",
    "years = years.unique()\n",
    "years.sort()\n",
    "\n",
    "print(years)\n",
    "real_years = years[1:-2]\n",
    "\n",
    "stats=pd.DataFrame([{\"mean\":mean(y), \"median\":median(y)} for y in (years, real_years)],\n",
    "                     index=(\"raw\", \"cleaned*\"))\n",
    "\n"
   ]
  },
  {
   "cell_type": "code",
   "execution_count": 12,
   "metadata": {},
   "outputs": [
    {
     "data": {
      "text/plain": [
       "array(['Book'], dtype=object)"
      ]
     },
     "execution_count": 12,
     "metadata": {},
     "output_type": "execute_result"
    }
   ],
   "source": [
    "#ItemType # always \"Book\"\n",
    "books[\"ItemType\"].unique()\n"
   ]
  },
  {
   "cell_type": "code",
   "execution_count": 13,
   "metadata": {},
   "outputs": [
    {
     "data": {
      "text/plain": [
       "array(['Adult Non-Fiction', 'Adult Fiction', 'Mystery',\n",
       "       'Older Teen Fiction', 'Younger Teen  Fiction', 'Adult Paperback',\n",
       "       'Science Fiction', \"Children's Fiction\", 'Western',\n",
       "       \"Children's Picture Paperback\", \"Children's Paperback\",\n",
       "       \"Children's Picture Book\", 'International Collection',\n",
       "       'ELL Collection', 'Teen Non-Fiction', \"Children's Non-Fiction\",\n",
       "       'Holiday', 'Natural Resources', 'Kentucky History', 'Oversize',\n",
       "       'Urban Fiction', 'Bestsellers', 'Storytime Collection',\n",
       "       \"Children's Board Book\", \"Children's Easy Reader\",\n",
       "       'Preschool  Picture Book', 'Adult Reference', 'Interlibrary Loan',\n",
       "       nan, 'Adult Paperbacks Tall', \"Children's Easy Reader Paperback\",\n",
       "       'Caldecott/Newbery', 'Laptop', 'Government Documents',\n",
       "       'Large Print', 'Telereference', \"Children's Non-Fiction Paperback\",\n",
       "       'Big Book', \"Children's Reference\", 'Teen Reference',\n",
       "       'College Shop', 'Magazines and Newspaper',\n",
       "       'Younger Teen  Paperback', 'Younger Teen  Audiobook', 'Readalongs',\n",
       "       'Listening Device', 'Adult Audiobook', 'Electronic',\n",
       "       \"Children's Music\", 'Adult DVD', 'Music', 'Book Discussion Kit'],\n",
       "      dtype=object)"
      ]
     },
     "execution_count": 13,
     "metadata": {},
     "output_type": "execute_result"
    }
   ],
   "source": [
    "#ItemCollection\n",
    "books[\"ItemCollection\"].unique()"
   ]
  },
  {
   "cell_type": "code",
   "execution_count": 14,
   "metadata": {},
   "outputs": [
    {
     "data": {
      "text/plain": [
       "ItemCollection\n",
       "Adult Non-Fiction                   371433\n",
       "Adult Fiction                       177604\n",
       "Children's Non-Fiction               86356\n",
       "Mystery                              60314\n",
       "Children's Picture Book              59348\n",
       "Preschool  Picture Book              51276\n",
       "Children's Fiction                   48446\n",
       "Adult Paperback                      45302\n",
       "Children's Paperback                 45076\n",
       "Children's Easy Reader               24511\n",
       "Teen Non-Fiction                     24376\n",
       "Older Teen Fiction                   23787\n",
       "Children's Board Book                20057\n",
       "Younger Teen  Fiction                17532\n",
       "Kentucky History                     16962\n",
       "Science Fiction                      16048\n",
       "Children's Easy Reader Paperback     15959\n",
       "Holiday                              15583\n",
       "International Collection             15581\n",
       "Adult Reference                      11197\n",
       "Children's Picture Paperback          9731\n",
       "Urban Fiction                         7601\n",
       "Caldecott/Newbery                     6777\n",
       "Storytime Collection                  4070\n",
       "Government Documents                  3355\n",
       "Oversize                              2252\n",
       "Western                               2140\n",
       "Bestsellers                           2122\n",
       "ELL Collection                        1832\n",
       "Natural Resources                     1505\n",
       "Adult Paperbacks Tall                  757\n",
       "Children's Reference                   541\n",
       "Interlibrary Loan                      168\n",
       "Laptop                                 101\n",
       "Big Book                                94\n",
       "Children's Non-Fiction Paperback        67\n",
       "Large Print                             59\n",
       "Readalongs                              38\n",
       "College Shop                            18\n",
       "Listening Device                        16\n",
       "Telereference                           10\n",
       "Teen Reference                           8\n",
       "Younger Teen  Audiobook                  6\n",
       "Magazines and Newspaper                  5\n",
       "Adult DVD                                4\n",
       "Electronic                               3\n",
       "Music                                    2\n",
       "Younger Teen  Paperback                  2\n",
       "Adult Audiobook                          2\n",
       "Children's Music                         1\n",
       "Book Discussion Kit                      1\n",
       "Name: count, dtype: int64"
      ]
     },
     "execution_count": 14,
     "metadata": {},
     "output_type": "execute_result"
    }
   ],
   "source": [
    "books.ItemCollection.value_counts()"
   ]
  },
  {
   "cell_type": "code",
   "execution_count": 15,
   "metadata": {},
   "outputs": [
    {
     "name": "stdout",
     "output_type": "stream",
     "text": [
      "['Main' 'Southwest' 'Remote Shelving - Main' 'Newburg' 'South Central'\n",
      " 'St Matthews' 'Fairdale' 'Bon Air' 'Jeffersontown' 'Iroquois'\n",
      " 'Crescent Hill' 'Remote Shelving - Shawnee' 'Northeast'\n",
      " 'Childrens Main Library' 'Shively' 'Highlands - Shelby Park' 'Middletown'\n",
      " 'Portland' 'Western' 'Main Teen' 'Shawnee' 'Childrens Bookmobile'\n",
      " 'Content Management' 'Adult Bookmobile']\n"
     ]
    },
    {
     "data": {
      "text/plain": [
       "ItemLocation\n",
       "Remote Shelving - Main       139987\n",
       "Northeast                    124473\n",
       "Southwest                    122113\n",
       "Main                         121439\n",
       "South Central                115837\n",
       "Bon Air                       74730\n",
       "St Matthews                   69531\n",
       "Jeffersontown                 56706\n",
       "Iroquois                      52382\n",
       "Highlands - Shelby Park       45539\n",
       "Crescent Hill                 42837\n",
       "Childrens Main Library        38994\n",
       "Middletown                    33120\n",
       "Shively                       23623\n",
       "Newburg                       23586\n",
       "Fairdale                      23149\n",
       "Shawnee                       22906\n",
       "Western                       21648\n",
       "Portland                      13334\n",
       "Childrens Bookmobile           9129\n",
       "Remote Shelving - Shawnee      9083\n",
       "Main Teen                      6024\n",
       "Content Management                4\n",
       "Adult Bookmobile                  2\n",
       "Name: count, dtype: int64"
      ]
     },
     "execution_count": 15,
     "metadata": {},
     "output_type": "execute_result"
    }
   ],
   "source": [
    "#ItemLocation\n",
    "print(books[\"ItemLocation\"].unique())\n",
    "books.ItemLocation.value_counts()"
   ]
  },
  {
   "cell_type": "code",
   "execution_count": 16,
   "metadata": {},
   "outputs": [
    {
     "data": {
      "text/plain": [
       "count   1190176.00000\n",
       "mean         18.45097\n",
       "std          15.99772\n",
       "min           0.00000\n",
       "25%          10.95000\n",
       "50%          15.99000\n",
       "75%          24.95000\n",
       "max        1077.00000\n",
       "Name: ItemPrice, dtype: float64"
      ]
     },
     "execution_count": 16,
     "metadata": {},
     "output_type": "execute_result"
    }
   ],
   "source": [
    "#ItemPrice\n",
    "prices = books[\"ItemPrice\"]\n",
    "prices.describe()"
   ]
  },
  {
   "cell_type": "code",
   "execution_count": 17,
   "metadata": {},
   "outputs": [
    {
     "data": {
      "text/plain": [
       "array(['02/01/2023 00:00:00'], dtype=object)"
      ]
     },
     "execution_count": 17,
     "metadata": {},
     "output_type": "execute_result"
    }
   ],
   "source": [
    "#ReportDate # Always '02/01/2023 00:00:00'\n",
    "books[\"ReportDate\"].unique()"
   ]
  },
  {
   "cell_type": "markdown",
   "metadata": {},
   "source": [
    "# Scraped Wikipedia data\n"
   ]
  },
  {
   "cell_type": "code",
   "execution_count": 18,
   "metadata": {},
   "outputs": [
    {
     "data": {
      "text/plain": [
       "(635, 1)"
      ]
     },
     "execution_count": 18,
     "metadata": {},
     "output_type": "execute_result"
    }
   ],
   "source": [
    "authors = pd.read_csv(\"data/raw/authors.csv\", index_col=0)\n",
    "authors.shape\n"
   ]
  },
  {
   "cell_type": "markdown",
   "metadata": {},
   "source": [
    "# Data Dictionary\n",
    "\n",
    "| Column name | Type | Description | Notes |\n",
    "| ----------- | ---- | ----------- | ----- |\n",
    "| index | number | unique number per row | |\n",
    "| Name | string | author's name | some information in parenthesis; for diambiguation? Are there authors with the same name?|"
   ]
  },
  {
   "cell_type": "code",
   "execution_count": 21,
   "metadata": {},
   "outputs": [
    {
     "name": "stdout",
     "output_type": "stream",
     "text": [
      "['Faridah Àbíké-Íyímídé', 'S.K. Ali', 'Elaine M. Alphin', 'M. T. Anderson', 'V. C. Andrews', 'Amelia Atwater-Rhodes', 'T. A. Barron', 'L. Frank Baum', 'Elizabeth J. Braswell', 'Roseanne A. Brown', 'N. M. Browne', 'Elizabeth C. Bunce', 'W. Bruce Cameron', 'Mary H.K. Choi', 'Rosemary Clement-Moore', 'Sneed B. Collard III', 'Caroline B. Cooney', 'Sharon G. Flake', 'E.R. Frank', 'Barbara C. Freeman', 'M-E Girard', 'Laurell K. Hamilton', 'Alix E. Harrow', 'Robert A. Heinlein', 'S.E. Hinton', 'A. M. Jenkins', 'E. K. Johnston', 'A. S. King', 'E. L. Konigsburg', 'Ursula K. Le Guin', \"Madeleine L'Engle\", 'E. Lockhart', 'Sarah J. Maas', 'Ann M. Martin', 'Syed M. Masood', 'Sharon E. McKay', 'Anna-Marie McLemore', 'Karen M. McManus', 'O. R. Melling', 'Gloria D. Miklowitz', 'Lorin Morgan-Richards', \"Tyne O'Connell\", \"Scott O'Dell\", \"Louise O'Neill\", 'Emily X.R. Pan', 'Mary E. Pearson', 'K. M. Peyton', 'J. K. Rowling', 'J. D. Salinger', 'V. E. Schwab', 'Andrew A. Smith', 'R. L. Stine', 'Francisco X. Stork', 'Elizabeth E. Wein', 'Ysabeau S. Wilce', 'Rita Williams-Garcia', 'Patricia C. Wrede']\n"
     ]
    }
   ],
   "source": [
    "from string import punctuation\n",
    "parens = set(\"()\")\n",
    "punctuation = set(punctuation) - parens\n",
    "nonalpha_values = list()\n",
    "parens_values = list()\n",
    "for value in authors.values:\n",
    "    value = value[0]\n",
    "    chars = set(value)\n",
    "    if chars & parens:\n",
    "        parens_values.append(value)\n",
    "    elif chars & punctuation:\n",
    "        nonalpha_values.append(value)"
   ]
  },
  {
   "cell_type": "code",
   "execution_count": 22,
   "metadata": {},
   "outputs": [
    {
     "data": {
      "text/plain": [
       "['Faridah Àbíké-Íyímídé',\n",
       " 'S.K. Ali',\n",
       " 'Elaine M. Alphin',\n",
       " 'M. T. Anderson',\n",
       " 'V. C. Andrews',\n",
       " 'Amelia Atwater-Rhodes',\n",
       " 'T. A. Barron',\n",
       " 'L. Frank Baum',\n",
       " 'Elizabeth J. Braswell',\n",
       " 'Roseanne A. Brown',\n",
       " 'N. M. Browne',\n",
       " 'Elizabeth C. Bunce',\n",
       " 'W. Bruce Cameron',\n",
       " 'Mary H.K. Choi',\n",
       " 'Rosemary Clement-Moore',\n",
       " 'Sneed B. Collard III',\n",
       " 'Caroline B. Cooney',\n",
       " 'Sharon G. Flake',\n",
       " 'E.R. Frank',\n",
       " 'Barbara C. Freeman',\n",
       " 'M-E Girard',\n",
       " 'Laurell K. Hamilton',\n",
       " 'Alix E. Harrow',\n",
       " 'Robert A. Heinlein',\n",
       " 'S.E. Hinton',\n",
       " 'A. M. Jenkins',\n",
       " 'E. K. Johnston',\n",
       " 'A. S. King',\n",
       " 'E. L. Konigsburg',\n",
       " 'Ursula K. Le Guin',\n",
       " \"Madeleine L'Engle\",\n",
       " 'E. Lockhart',\n",
       " 'Sarah J. Maas',\n",
       " 'Ann M. Martin',\n",
       " 'Syed M. Masood',\n",
       " 'Sharon E. McKay',\n",
       " 'Anna-Marie McLemore',\n",
       " 'Karen M. McManus',\n",
       " 'O. R. Melling',\n",
       " 'Gloria D. Miklowitz',\n",
       " 'Lorin Morgan-Richards',\n",
       " \"Tyne O'Connell\",\n",
       " \"Scott O'Dell\",\n",
       " \"Louise O'Neill\",\n",
       " 'Emily X.R. Pan',\n",
       " 'Mary E. Pearson',\n",
       " 'K. M. Peyton',\n",
       " 'J. K. Rowling',\n",
       " 'J. D. Salinger',\n",
       " 'V. E. Schwab',\n",
       " 'Andrew A. Smith',\n",
       " 'R. L. Stine',\n",
       " 'Francisco X. Stork',\n",
       " 'Elizabeth E. Wein',\n",
       " 'Ysabeau S. Wilce',\n",
       " 'Rita Williams-Garcia',\n",
       " 'Patricia C. Wrede']"
      ]
     },
     "execution_count": 22,
     "metadata": {},
     "output_type": "execute_result"
    }
   ],
   "source": [
    "nonalpha_values"
   ]
  },
  {
   "cell_type": "code",
   "execution_count": 24,
   "metadata": {},
   "outputs": [
    {
     "data": {
      "text/plain": [
       "['Anthony (writer)',\n",
       " 'Karen Bass (writer)',\n",
       " 'Joan Bauer (novelist)',\n",
       " 'Julie Berry (author)',\n",
       " 'Kevin Brooks (writer)',\n",
       " 'Christopher Collier (historian)',\n",
       " 'Terry Davis (author)',\n",
       " 'Anne Emery (young adult author)',\n",
       " 'Nancy Farmer (author)',\n",
       " 'Michael Grant (author, born 1954)',\n",
       " 'Alex Hall (author)',\n",
       " 'Barbara Hall (TV producer)',\n",
       " 'Rachel Hawkins (writer)',\n",
       " 'Angela Johnson (writer)',\n",
       " 'Catherine Johnson (novelist)',\n",
       " 'Leah Johnson (writer)',\n",
       " 'Carrie Jones (author)',\n",
       " 'Elizabeth Laird (author)',\n",
       " 'Michael Lawrence (writer)',\n",
       " 'Keith Mansfield (writer)',\n",
       " 'John Marsden (writer)',\n",
       " 'Patricia McCormick (author)',\n",
       " 'Mike Mullin (author)',\n",
       " 'Julie Murphy (author)',\n",
       " 'William Nicholson (writer)',\n",
       " 'Richard Peck (writer)',\n",
       " 'Christopher Pike (author)',\n",
       " 'David Rees (author)',\n",
       " 'Alex Sánchez (author)',\n",
       " 'Elizabeth Scott (author)',\n",
       " 'Michael Scott (Irish author)',\n",
       " 'Mark Shulman (author)',\n",
       " 'L. J. Smith (author)',\n",
       " 'Nicholas Sparks (author)',\n",
       " 'Aiden Thomas (author)',\n",
       " 'Rob Thomas (writer)',\n",
       " 'Kate Thompson (author)',\n",
       " 'James Watson (author)',\n",
       " 'Dan Wells (author)',\n",
       " 'Richard Wright (author)']"
      ]
     },
     "execution_count": 24,
     "metadata": {},
     "output_type": "execute_result"
    }
   ],
   "source": [
    "parens_values"
   ]
  },
  {
   "cell_type": "markdown",
   "metadata": {},
   "source": [
    "# Conclusion\n",
    "\n",
    "Filter out parenthetical values and discard."
   ]
  }
 ],
 "metadata": {
  "kernelspec": {
   "display_name": "venv",
   "language": "python",
   "name": "python3"
  },
  "language_info": {
   "codemirror_mode": {
    "name": "ipython",
    "version": 3
   },
   "file_extension": ".py",
   "mimetype": "text/x-python",
   "name": "python",
   "nbconvert_exporter": "python",
   "pygments_lexer": "ipython3",
   "version": "3.11.1"
  },
  "orig_nbformat": 4
 },
 "nbformat": 4,
 "nbformat_minor": 2
}
